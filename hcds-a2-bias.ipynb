{
 "cells": [
  {
   "cell_type": "markdown",
   "metadata": {},
   "source": [
    "# DATA 512 - A2: Bias in Data\n",
    "**Corey Christopherson**\n",
    "**10/10/2019**  \n",
    "\n",
    "The purpose of this project is to explore the concept of bias through data on Wikipedia articles - specifically, articles on political figures from a variety of countries"
   ]
  },
  {
   "cell_type": "code",
   "execution_count": 1,
   "metadata": {},
   "outputs": [],
   "source": [
    "import numpy as np\n",
    "import pandas as pd\n",
    "import requests\n",
    "import json\n",
    "import time"
   ]
  },
  {
   "cell_type": "markdown",
   "metadata": {},
   "source": [
    "## Data Acquisition\n",
    "Two data sets were obtained for this project were obtained\n",
    "1. page_data.csv - Wikipedia politicians by country dataset \n",
    "2. WPDS_2018_data.csv - Population Reference Bureau world population datasheet"
   ]
  },
  {
   "cell_type": "code",
   "execution_count": 2,
   "metadata": {},
   "outputs": [],
   "source": [
    "#\n",
    "### ACQUIRE DATA ###\n",
    "#"
   ]
  },
  {
   "cell_type": "code",
   "execution_count": 72,
   "metadata": {},
   "outputs": [],
   "source": [
    "# Define data paths\n",
    "path = r'C:/Users/chrico7/Documents/__Corey Christopherson/MS Data Science/Courses/HCDE 512/Week 2/Homework/'\n",
    "polPath = r'C:/Users/chrico7/Documents/__Corey Christopherson/MS Data Science/Courses/HCDE 512/Week 2/Homework/Data/country/data/'\n",
    "popPath = r'C:/Users/chrico7/Documents/__Corey Christopherson/MS Data Science/Courses/HCDE 512/Week 2/Homework/Data/'"
   ]
  },
  {
   "cell_type": "code",
   "execution_count": 4,
   "metadata": {},
   "outputs": [],
   "source": [
    "# Read in csv data\n",
    "polData_raw = pd.read_csv(r'{}page_data.csv'.format(polPath))\n",
    "popData_raw = pd.read_csv(r'{}WPDS_2018_data.csv'.format(popPath))"
   ]
  },
  {
   "cell_type": "markdown",
   "metadata": {},
   "source": [
    "## Data Cleaning\n",
    "Both data sets were cleaned to ensure the quality of the final data according to the following list\n",
    "1. polData - Remove page name that begin with 'Template' since these are not Wikipedia pages\n",
    "2. popData - Break out ALL CAP records in the 'geography' field to a separate table because these are aggregates\n",
    "\n",
    "Additionally, a separate table was generated to map regions to the correcponding countries"
   ]
  },
  {
   "cell_type": "code",
   "execution_count": 5,
   "metadata": {},
   "outputs": [],
   "source": [
    "#\n",
    "### CLEAN DATA ###\n",
    "#"
   ]
  },
  {
   "cell_type": "code",
   "execution_count": 6,
   "metadata": {},
   "outputs": [],
   "source": [
    "# Politician Data (polData)\n",
    "polData = polData_raw.copy()\n",
    "# Remove page names that start with the string 'Template'\n",
    "polData = polData[~polData['page'].str.contains('Template',regex=True)].reset_index(drop=True)"
   ]
  },
  {
   "cell_type": "code",
   "execution_count": 7,
   "metadata": {},
   "outputs": [],
   "source": [
    "# Population Data (popData)\n",
    "popData = popData_raw.copy()\n",
    "# Break out records with ALL CAP records in 'geography' field\n",
    "popData_agg = popData[popData['Geography'].str.isupper()].reset_index(drop=True)\n",
    "popData = popData[~popData['Geography'].str.isupper()].reset_index(drop=True)"
   ]
  },
  {
   "cell_type": "code",
   "execution_count": 153,
   "metadata": {},
   "outputs": [],
   "source": [
    "# Derive map between Geogrpahy and Country\n",
    "geoMap = pd.DataFrame()\n",
    "firstGeo = popData_agg['Geography'][0]\n",
    "for i in popData_agg['Geography'][1:]:\n",
    "    start = popData_raw.loc[popData_raw['Geography']==firstGeo,:].index[0]\n",
    "    stop = popData_raw.loc[popData_raw['Geography']==i,:].index[0]\n",
    "    temp = popData_raw.iloc[start:stop,:]\n",
    "    temp.loc[:,'Region'] = firstGeo\n",
    "    geoMap = geoMap.append(temp[['Region','Geography']], ignore_index=True, sort=False)\n",
    "    #print(popData_raw.iloc[start,0], popData_raw.iloc[stop,0])\n",
    "    firstGeo = popData_raw.iloc[stop,0]\n",
    "geoMap = geoMap[geoMap['Region']!=geoMap['Geography']]"
   ]
  },
  {
   "cell_type": "markdown",
   "metadata": {},
   "source": [
    "## Data Processing\n",
    "\n",
    "First, the quality score for each article was obtained from the ores API. All data was then combined into a common table with unmatched rows extracted for reference"
   ]
  },
  {
   "cell_type": "code",
   "execution_count": 8,
   "metadata": {},
   "outputs": [],
   "source": [
    "#\n",
    "### PROCESS DATA ###\n",
    "#"
   ]
  },
  {
   "cell_type": "code",
   "execution_count": 9,
   "metadata": {},
   "outputs": [],
   "source": [
    "# Get article quality predictions"
   ]
  },
  {
   "cell_type": "code",
   "execution_count": 10,
   "metadata": {},
   "outputs": [],
   "source": [
    "def get_ores_data(revision_ids):\n",
    "    \"\"\"\n",
    "    Function to get ores data when passed a list of revision ids\n",
    "    \"\"\"\n",
    "    # Define the endpoint\n",
    "    endpoint = 'https://ores.wikimedia.org/v3/scores/{project}/?models={model}&revids={revids}'\n",
    "    \n",
    "    # Specify the parameters - smushing all the revision IDs together separated by | marks.  \n",
    "    params = {'project' : 'enwiki',\n",
    "              'model'   : 'wp10',\n",
    "              'revids'  : '|'.join(str(x) for x in revision_ids)\n",
    "              }\n",
    "    # Call the API and convert to json\n",
    "    api_call = requests.get(endpoint.format(**params))\n",
    "    response = api_call.json()\n",
    "    # Convert json to a pandas data frame\n",
    "    temp_df = pd.io.json.json_normalize(response['enwiki'])\n",
    "    # Rename columns to common terms\n",
    "    colDict = dict(zip(pd.Series(temp_df.columns),\n",
    "                       pd.Series(temp_df.columns).str.rsplit('.',n=1,expand=True)[1]))\n",
    "    temp_df.rename(colDict, axis='columns',inplace=True)\n",
    "    \n",
    "    return temp_df"
   ]
  },
  {
   "cell_type": "code",
   "execution_count": 11,
   "metadata": {},
   "outputs": [
    {
     "data": {
      "text/plain": [
       "(46701, 3)"
      ]
     },
     "execution_count": 11,
     "metadata": {},
     "output_type": "execute_result"
    }
   ],
   "source": [
    "polData.shape"
   ]
  },
  {
   "cell_type": "code",
   "execution_count": 20,
   "metadata": {},
   "outputs": [
    {
     "data": {
      "text/html": [
       "<div>\n",
       "<style scoped>\n",
       "    .dataframe tbody tr th:only-of-type {\n",
       "        vertical-align: middle;\n",
       "    }\n",
       "\n",
       "    .dataframe tbody tr th {\n",
       "        vertical-align: top;\n",
       "    }\n",
       "\n",
       "    .dataframe thead th {\n",
       "        text-align: right;\n",
       "    }\n",
       "</style>\n",
       "<table border=\"1\" class=\"dataframe\">\n",
       "  <thead>\n",
       "    <tr style=\"text-align: right;\">\n",
       "      <th></th>\n",
       "      <th>page</th>\n",
       "      <th>country</th>\n",
       "      <th>rev_id</th>\n",
       "    </tr>\n",
       "  </thead>\n",
       "  <tbody>\n",
       "    <tr>\n",
       "      <td>0</td>\n",
       "      <td>Bir I of Kanem</td>\n",
       "      <td>Chad</td>\n",
       "      <td>355319463</td>\n",
       "    </tr>\n",
       "    <tr>\n",
       "      <td>1</td>\n",
       "      <td>Information Minister of the Palestinian Nation...</td>\n",
       "      <td>Palestinian Territory</td>\n",
       "      <td>393276188</td>\n",
       "    </tr>\n",
       "  </tbody>\n",
       "</table>\n",
       "</div>"
      ],
      "text/plain": [
       "                                                page                country  \\\n",
       "0                                     Bir I of Kanem                   Chad   \n",
       "1  Information Minister of the Palestinian Nation...  Palestinian Territory   \n",
       "\n",
       "      rev_id  \n",
       "0  355319463  \n",
       "1  393276188  "
      ]
     },
     "execution_count": 20,
     "metadata": {},
     "output_type": "execute_result"
    }
   ],
   "source": [
    "polData.head(2)"
   ]
  },
  {
   "cell_type": "code",
   "execution_count": 13,
   "metadata": {},
   "outputs": [
    {
     "name": "stdout",
     "output_type": "stream",
     "text": [
      "14633.435400724411\n"
     ]
    }
   ],
   "source": [
    "# Loop through rows and compile cumulative ores data frame\n",
    "start = time.time()\n",
    "oresData_raw_good = pd.DataFrame()\n",
    "oresData_raw_bad = pd.DataFrame()\n",
    "for row in polData.itertuples():\n",
    "    rev_id = [row[3]]\n",
    "    temp_df = get_ores_data(rev_id)\n",
    "    temp_df.loc[:,'rev_id'] = rev_id\n",
    "    if temp_df.shape[1]==9:\n",
    "        oresData_raw_good = oresData_raw_good.append(temp_df, ignore_index=True, sort=False)\n",
    "    else:\n",
    "        oresData_raw_bad = oresData_raw_bad.append(temp_df, ignore_index=True, sort=False)\n",
    "print(time.time() - start)"
   ]
  },
  {
   "cell_type": "code",
   "execution_count": 14,
   "metadata": {},
   "outputs": [
    {
     "data": {
      "text/plain": [
       "(46546, 9)"
      ]
     },
     "execution_count": 14,
     "metadata": {},
     "output_type": "execute_result"
    }
   ],
   "source": [
    "oresData_raw_good.shape"
   ]
  },
  {
   "cell_type": "code",
   "execution_count": 18,
   "metadata": {},
   "outputs": [
    {
     "data": {
      "text/html": [
       "<div>\n",
       "<style scoped>\n",
       "    .dataframe tbody tr th:only-of-type {\n",
       "        vertical-align: middle;\n",
       "    }\n",
       "\n",
       "    .dataframe tbody tr th {\n",
       "        vertical-align: top;\n",
       "    }\n",
       "\n",
       "    .dataframe thead th {\n",
       "        text-align: right;\n",
       "    }\n",
       "</style>\n",
       "<table border=\"1\" class=\"dataframe\">\n",
       "  <thead>\n",
       "    <tr style=\"text-align: right;\">\n",
       "      <th></th>\n",
       "      <th>version</th>\n",
       "      <th>prediction</th>\n",
       "      <th>B</th>\n",
       "      <th>C</th>\n",
       "      <th>FA</th>\n",
       "      <th>GA</th>\n",
       "      <th>Start</th>\n",
       "      <th>Stub</th>\n",
       "      <th>rev_id</th>\n",
       "    </tr>\n",
       "  </thead>\n",
       "  <tbody>\n",
       "    <tr>\n",
       "      <td>0</td>\n",
       "      <td>0.8.1</td>\n",
       "      <td>Stub</td>\n",
       "      <td>0.005417</td>\n",
       "      <td>0.007053</td>\n",
       "      <td>0.001113</td>\n",
       "      <td>0.001616</td>\n",
       "      <td>0.011020</td>\n",
       "      <td>0.973780</td>\n",
       "      <td>355319463</td>\n",
       "    </tr>\n",
       "    <tr>\n",
       "      <td>1</td>\n",
       "      <td>0.8.1</td>\n",
       "      <td>Stub</td>\n",
       "      <td>0.008993</td>\n",
       "      <td>0.009415</td>\n",
       "      <td>0.001568</td>\n",
       "      <td>0.002877</td>\n",
       "      <td>0.047603</td>\n",
       "      <td>0.929544</td>\n",
       "      <td>393276188</td>\n",
       "    </tr>\n",
       "  </tbody>\n",
       "</table>\n",
       "</div>"
      ],
      "text/plain": [
       "  version prediction         B         C        FA        GA     Start  \\\n",
       "0   0.8.1       Stub  0.005417  0.007053  0.001113  0.001616  0.011020   \n",
       "1   0.8.1       Stub  0.008993  0.009415  0.001568  0.002877  0.047603   \n",
       "\n",
       "       Stub     rev_id  \n",
       "0  0.973780  355319463  \n",
       "1  0.929544  393276188  "
      ]
     },
     "execution_count": 18,
     "metadata": {},
     "output_type": "execute_result"
    }
   ],
   "source": [
    "oresData_raw_good.head(2)"
   ]
  },
  {
   "cell_type": "code",
   "execution_count": 16,
   "metadata": {},
   "outputs": [
    {
     "data": {
      "text/plain": [
       "(155, 4)"
      ]
     },
     "execution_count": 16,
     "metadata": {},
     "output_type": "execute_result"
    }
   ],
   "source": [
    "oresData_raw_bad.shape"
   ]
  },
  {
   "cell_type": "code",
   "execution_count": 19,
   "metadata": {},
   "outputs": [
    {
     "data": {
      "text/html": [
       "<div>\n",
       "<style scoped>\n",
       "    .dataframe tbody tr th:only-of-type {\n",
       "        vertical-align: middle;\n",
       "    }\n",
       "\n",
       "    .dataframe tbody tr th {\n",
       "        vertical-align: top;\n",
       "    }\n",
       "\n",
       "    .dataframe thead th {\n",
       "        text-align: right;\n",
       "    }\n",
       "</style>\n",
       "<table border=\"1\" class=\"dataframe\">\n",
       "  <thead>\n",
       "    <tr style=\"text-align: right;\">\n",
       "      <th></th>\n",
       "      <th>version</th>\n",
       "      <th>message</th>\n",
       "      <th>type</th>\n",
       "      <th>rev_id</th>\n",
       "    </tr>\n",
       "  </thead>\n",
       "  <tbody>\n",
       "    <tr>\n",
       "      <td>0</td>\n",
       "      <td>0.8.1</td>\n",
       "      <td>RevisionNotFound: Could not find revision ({re...</td>\n",
       "      <td>RevisionNotFound</td>\n",
       "      <td>516633096</td>\n",
       "    </tr>\n",
       "    <tr>\n",
       "      <td>1</td>\n",
       "      <td>0.8.1</td>\n",
       "      <td>RevisionNotFound: Could not find revision ({re...</td>\n",
       "      <td>RevisionNotFound</td>\n",
       "      <td>550682925</td>\n",
       "    </tr>\n",
       "  </tbody>\n",
       "</table>\n",
       "</div>"
      ],
      "text/plain": [
       "  version                                            message  \\\n",
       "0   0.8.1  RevisionNotFound: Could not find revision ({re...   \n",
       "1   0.8.1  RevisionNotFound: Could not find revision ({re...   \n",
       "\n",
       "               type     rev_id  \n",
       "0  RevisionNotFound  516633096  \n",
       "1  RevisionNotFound  550682925  "
      ]
     },
     "execution_count": 19,
     "metadata": {},
     "output_type": "execute_result"
    }
   ],
   "source": [
    "oresData_raw_bad.head(2)"
   ]
  },
  {
   "cell_type": "code",
   "execution_count": 37,
   "metadata": {},
   "outputs": [],
   "source": [
    "# Add article score to polData and extract bad rows\n",
    "polData_score = pd.merge(polData,\n",
    "                         oresData_raw_good[['rev_id','prediction']],\n",
    "                         how='outer',on='rev_id')\n",
    "polData_noScore = polData_score[polData_score['prediction'].isnull()]\n",
    "polData_score = polData_score[~polData_score['prediction'].isnull()]"
   ]
  },
  {
   "cell_type": "code",
   "execution_count": 63,
   "metadata": {},
   "outputs": [],
   "source": [
    "# Add popData to pol data and extract bad rows\n",
    "allData_raw = pd.merge(polData_score,\n",
    "                       popData,how='outer',left_on='country',right_on='Geography')\n",
    "allData_raw_noGeo = allData_raw[allData_raw['Geography'].isnull()]\n",
    "allData_raw_noPage = allData_raw[allData_raw['page'].isnull()]\n",
    "allData_raw_good = allData_raw[(~allData_raw['Geography'].isnull())&\n",
    "                               (~allData_raw['page'].isnull())]"
   ]
  },
  {
   "cell_type": "code",
   "execution_count": 122,
   "metadata": {},
   "outputs": [],
   "source": [
    "# Format columns\n",
    "finalCols = ['country','article_name','revision_id','article_quality','population']\n",
    "allData = allData_raw_good.rename({'page':'article_name',\n",
    "                                   'rev_id':'revision_id',\n",
    "                                   'prediction':'article_quality',\n",
    "                                   'Population mid-2018 (millions)':'population'},axis=1)\n",
    "allData = allData[finalCols]\n",
    "# Format data types\n",
    "allData.loc[:,'population'] = allData['population'].str.replace(',','',regex=True).astype(float)*1000000"
   ]
  },
  {
   "cell_type": "code",
   "execution_count": 123,
   "metadata": {},
   "outputs": [
    {
     "name": "stdout",
     "output_type": "stream",
     "text": [
      "<class 'pandas.core.frame.DataFrame'>\n",
      "Int64Index: 44464 entries, 0 to 46539\n",
      "Data columns (total 5 columns):\n",
      "country            44464 non-null object\n",
      "article_name       44464 non-null object\n",
      "revision_id        44464 non-null float64\n",
      "article_quality    44464 non-null object\n",
      "population         44464 non-null float64\n",
      "dtypes: float64(2), object(3)\n",
      "memory usage: 2.0+ MB\n"
     ]
    }
   ],
   "source": [
    "allData.info()"
   ]
  },
  {
   "cell_type": "code",
   "execution_count": 124,
   "metadata": {},
   "outputs": [],
   "source": [
    "# Output unmatched rows\n",
    "badData = pd.concat([polData_noScore,allData_raw_noGeo,allData_raw_noPage], sort=False)\n",
    "badData.to_csv(r'{}wp_wpds_countries-no_match.csv'.format(path),header=True,index=False)"
   ]
  },
  {
   "cell_type": "code",
   "execution_count": 125,
   "metadata": {},
   "outputs": [],
   "source": [
    "# Output final data\n",
    "allData.to_csv(r'{}wp_wpds_politicians_by_country.csv'.format(path),header=True,index=False)"
   ]
  },
  {
   "cell_type": "markdown",
   "metadata": {},
   "source": [
    "## Data Analysis\n",
    "The final data was then split into several different frames to calculate following metrics\n",
    "1. Country article count\n",
    "2. Country population total\n",
    "3. Country article count for good articles (FA and GA)\n",
    "4. Region article count\n",
    "5. Region population sum\n",
    "6. Country article count for good articles (FA and GA)\n",
    "\n",
    "These tables were then used to generate the following tables\n",
    "\n",
    "1. Top 10 countries by coverage: 10 highest-ranked countries in terms of number of politician articles as a proportion of country population\n",
    "2. Bottom 10 countries by coverage: 10 lowest-ranked countries in terms of number of politician articles as a proportion of country population\n",
    "3. Top 10 countries by relative quality: 10 highest-ranked countries in terms of the relative proportion of politician articles that are of GA and FA-quality\n",
    "4. Bottom 10 countries by relative quality: 10 lowest-ranked countries in terms of the relative proportion of politician articles that are of GA and FA-quality\n",
    "5. Geographic regions by coverage: Ranking of geographic regions (in descending order) in terms of the total count of politician articles from countries in each region as a proportion of total regional population\n",
    "6. Geographic regions by coverage: Ranking of geographic regions (in descending order) in terms of the relative proportion of politician articles from countries in each region that are of GA and FA-quality"
   ]
  },
  {
   "cell_type": "code",
   "execution_count": 118,
   "metadata": {},
   "outputs": [],
   "source": [
    "#\n",
    "### ANALYZE DATA ###\n",
    "#"
   ]
  },
  {
   "cell_type": "code",
   "execution_count": 126,
   "metadata": {},
   "outputs": [
    {
     "name": "stdout",
     "output_type": "stream",
     "text": [
      "<class 'pandas.core.frame.DataFrame'>\n",
      "Int64Index: 44464 entries, 0 to 46539\n",
      "Data columns (total 5 columns):\n",
      "country            44464 non-null object\n",
      "article_name       44464 non-null object\n",
      "revision_id        44464 non-null float64\n",
      "article_quality    44464 non-null object\n",
      "population         44464 non-null float64\n",
      "dtypes: float64(2), object(3)\n",
      "memory usage: 2.0+ MB\n"
     ]
    }
   ],
   "source": [
    "allData.info()"
   ]
  },
  {
   "cell_type": "code",
   "execution_count": 168,
   "metadata": {},
   "outputs": [],
   "source": [
    "# Make a frame with Region information\n",
    "allData_region = pd.merge(allData, geoMap, how='left',left_on='country',right_on='Geography').drop('Geography',axis=1)"
   ]
  },
  {
   "cell_type": "code",
   "execution_count": 175,
   "metadata": {},
   "outputs": [],
   "source": [
    "# Calculate metrics\n",
    "country_article_count = (allData.groupby('country')['article_name'].count()\n",
    "                         .reset_index().rename({'article_name':'article_count'},axis=1))\n",
    "\n",
    "country_pop_sum = (allData.groupby('country')['population'].mean()\n",
    "                   .reset_index().rename({'population':'population_sum'},axis=1))\n",
    "\n",
    "country_article_good = (allData[(allData['article_quality']=='GA')|\n",
    "                                (allData['article_quality']=='FA')]\n",
    "                        .groupby('country')['article_name'].count()\n",
    "                        .reset_index().rename({'article_name':'article_count_good'},axis=1))\n",
    "\n",
    "region_article_count = (allData_region.groupby('Region')['article_name'].count()\n",
    "                        .reset_index().rename({'article_name':'article_count'},axis=1))\n",
    "\n",
    "region_pop_sum = (allData_region.groupby('Region')['population'].mean()\n",
    "                  .reset_index().rename({'population':'population_sum'},axis=1))\n",
    "\n",
    "region_article_good = (allData_region[(allData_region['article_quality']=='GA')|\n",
    "                                      (allData_region['article_quality']=='FA')]\n",
    "                       .groupby('Region')['article_name'].count()\n",
    "                       .reset_index().rename({'article_name':'article_count_good'},axis=1))"
   ]
  },
  {
   "cell_type": "code",
   "execution_count": 191,
   "metadata": {},
   "outputs": [],
   "source": [
    "# Calculate data tables\n",
    "country_cov = pd.merge(country_article_count,country_pop_sum,how='left',on='country')\n",
    "country_cov.loc[:,'coverage%'] = country_cov['article_count']/country_cov['population_sum']*100\n",
    "\n",
    "country_qual = pd.merge(country_article_good,country_article_count,how='left',on='country')\n",
    "country_qual.loc[:,'quality%'] = country_qual['article_count_good']/country_qual['article_count']*100\n",
    "\n",
    "region_cov = pd.merge(region_article_count,region_pop_sum,how='left',on='Region')\n",
    "region_cov.loc[:,'coverage%'] = region_cov['article_count']/region_cov['population_sum']*100\n",
    "\n",
    "region_qual = pd.merge(region_article_good,region_article_count,how='left',on='Region')\n",
    "region_qual.loc[:,'quality%'] = region_qual['article_count_good']/region_qual['article_count']*100"
   ]
  },
  {
   "cell_type": "code",
   "execution_count": null,
   "metadata": {},
   "outputs": [],
   "source": [
    "# Output data tables"
   ]
  },
  {
   "cell_type": "code",
   "execution_count": 203,
   "metadata": {},
   "outputs": [
    {
     "data": {
      "text/html": [
       "<div>\n",
       "<style scoped>\n",
       "    .dataframe tbody tr th:only-of-type {\n",
       "        vertical-align: middle;\n",
       "    }\n",
       "\n",
       "    .dataframe tbody tr th {\n",
       "        vertical-align: top;\n",
       "    }\n",
       "\n",
       "    .dataframe thead th {\n",
       "        text-align: right;\n",
       "    }\n",
       "</style>\n",
       "<table border=\"1\" class=\"dataframe\">\n",
       "  <thead>\n",
       "    <tr style=\"text-align: right;\">\n",
       "      <th></th>\n",
       "      <th>country</th>\n",
       "      <th>article_count</th>\n",
       "      <th>population_sum</th>\n",
       "      <th>coverage%</th>\n",
       "    </tr>\n",
       "  </thead>\n",
       "  <tbody>\n",
       "    <tr>\n",
       "      <td>0</td>\n",
       "      <td>Tuvalu</td>\n",
       "      <td>54</td>\n",
       "      <td>10000.0</td>\n",
       "      <td>0.540000</td>\n",
       "    </tr>\n",
       "    <tr>\n",
       "      <td>1</td>\n",
       "      <td>Nauru</td>\n",
       "      <td>52</td>\n",
       "      <td>10000.0</td>\n",
       "      <td>0.520000</td>\n",
       "    </tr>\n",
       "    <tr>\n",
       "      <td>2</td>\n",
       "      <td>San Marino</td>\n",
       "      <td>81</td>\n",
       "      <td>30000.0</td>\n",
       "      <td>0.270000</td>\n",
       "    </tr>\n",
       "    <tr>\n",
       "      <td>3</td>\n",
       "      <td>Monaco</td>\n",
       "      <td>40</td>\n",
       "      <td>40000.0</td>\n",
       "      <td>0.100000</td>\n",
       "    </tr>\n",
       "    <tr>\n",
       "      <td>4</td>\n",
       "      <td>Liechtenstein</td>\n",
       "      <td>28</td>\n",
       "      <td>40000.0</td>\n",
       "      <td>0.070000</td>\n",
       "    </tr>\n",
       "    <tr>\n",
       "      <td>5</td>\n",
       "      <td>Tonga</td>\n",
       "      <td>63</td>\n",
       "      <td>100000.0</td>\n",
       "      <td>0.063000</td>\n",
       "    </tr>\n",
       "    <tr>\n",
       "      <td>6</td>\n",
       "      <td>Marshall Islands</td>\n",
       "      <td>37</td>\n",
       "      <td>60000.0</td>\n",
       "      <td>0.061667</td>\n",
       "    </tr>\n",
       "    <tr>\n",
       "      <td>7</td>\n",
       "      <td>Iceland</td>\n",
       "      <td>201</td>\n",
       "      <td>400000.0</td>\n",
       "      <td>0.050250</td>\n",
       "    </tr>\n",
       "    <tr>\n",
       "      <td>8</td>\n",
       "      <td>Andorra</td>\n",
       "      <td>34</td>\n",
       "      <td>80000.0</td>\n",
       "      <td>0.042500</td>\n",
       "    </tr>\n",
       "    <tr>\n",
       "      <td>9</td>\n",
       "      <td>Grenada</td>\n",
       "      <td>36</td>\n",
       "      <td>100000.0</td>\n",
       "      <td>0.036000</td>\n",
       "    </tr>\n",
       "  </tbody>\n",
       "</table>\n",
       "</div>"
      ],
      "text/plain": [
       "            country  article_count  population_sum  coverage%\n",
       "0            Tuvalu             54         10000.0   0.540000\n",
       "1             Nauru             52         10000.0   0.520000\n",
       "2        San Marino             81         30000.0   0.270000\n",
       "3            Monaco             40         40000.0   0.100000\n",
       "4     Liechtenstein             28         40000.0   0.070000\n",
       "5             Tonga             63        100000.0   0.063000\n",
       "6  Marshall Islands             37         60000.0   0.061667\n",
       "7           Iceland            201        400000.0   0.050250\n",
       "8           Andorra             34         80000.0   0.042500\n",
       "9           Grenada             36        100000.0   0.036000"
      ]
     },
     "execution_count": 203,
     "metadata": {},
     "output_type": "execute_result"
    }
   ],
   "source": [
    "# Top 10 Countries by Coverage\n",
    "country_cov.sort_values('coverage%',ascending=False)[0:10].reset_index(drop=True)"
   ]
  },
  {
   "cell_type": "code",
   "execution_count": 204,
   "metadata": {},
   "outputs": [
    {
     "data": {
      "text/html": [
       "<div>\n",
       "<style scoped>\n",
       "    .dataframe tbody tr th:only-of-type {\n",
       "        vertical-align: middle;\n",
       "    }\n",
       "\n",
       "    .dataframe tbody tr th {\n",
       "        vertical-align: top;\n",
       "    }\n",
       "\n",
       "    .dataframe thead th {\n",
       "        text-align: right;\n",
       "    }\n",
       "</style>\n",
       "<table border=\"1\" class=\"dataframe\">\n",
       "  <thead>\n",
       "    <tr style=\"text-align: right;\">\n",
       "      <th></th>\n",
       "      <th>country</th>\n",
       "      <th>article_count</th>\n",
       "      <th>population_sum</th>\n",
       "      <th>coverage%</th>\n",
       "    </tr>\n",
       "  </thead>\n",
       "  <tbody>\n",
       "    <tr>\n",
       "      <td>0</td>\n",
       "      <td>India</td>\n",
       "      <td>980</td>\n",
       "      <td>1.371300e+09</td>\n",
       "      <td>0.000071</td>\n",
       "    </tr>\n",
       "    <tr>\n",
       "      <td>1</td>\n",
       "      <td>Indonesia</td>\n",
       "      <td>210</td>\n",
       "      <td>2.652000e+08</td>\n",
       "      <td>0.000079</td>\n",
       "    </tr>\n",
       "    <tr>\n",
       "      <td>2</td>\n",
       "      <td>China</td>\n",
       "      <td>1130</td>\n",
       "      <td>1.393800e+09</td>\n",
       "      <td>0.000081</td>\n",
       "    </tr>\n",
       "    <tr>\n",
       "      <td>3</td>\n",
       "      <td>Uzbekistan</td>\n",
       "      <td>28</td>\n",
       "      <td>3.290000e+07</td>\n",
       "      <td>0.000085</td>\n",
       "    </tr>\n",
       "    <tr>\n",
       "      <td>4</td>\n",
       "      <td>Ethiopia</td>\n",
       "      <td>101</td>\n",
       "      <td>1.075000e+08</td>\n",
       "      <td>0.000094</td>\n",
       "    </tr>\n",
       "    <tr>\n",
       "      <td>5</td>\n",
       "      <td>Korea, North</td>\n",
       "      <td>36</td>\n",
       "      <td>2.560000e+07</td>\n",
       "      <td>0.000141</td>\n",
       "    </tr>\n",
       "    <tr>\n",
       "      <td>6</td>\n",
       "      <td>Zambia</td>\n",
       "      <td>25</td>\n",
       "      <td>1.770000e+07</td>\n",
       "      <td>0.000141</td>\n",
       "    </tr>\n",
       "    <tr>\n",
       "      <td>7</td>\n",
       "      <td>Thailand</td>\n",
       "      <td>112</td>\n",
       "      <td>6.620000e+07</td>\n",
       "      <td>0.000169</td>\n",
       "    </tr>\n",
       "    <tr>\n",
       "      <td>8</td>\n",
       "      <td>Mozambique</td>\n",
       "      <td>58</td>\n",
       "      <td>3.050000e+07</td>\n",
       "      <td>0.000190</td>\n",
       "    </tr>\n",
       "    <tr>\n",
       "      <td>9</td>\n",
       "      <td>Bangladesh</td>\n",
       "      <td>319</td>\n",
       "      <td>1.664000e+08</td>\n",
       "      <td>0.000192</td>\n",
       "    </tr>\n",
       "  </tbody>\n",
       "</table>\n",
       "</div>"
      ],
      "text/plain": [
       "        country  article_count  population_sum  coverage%\n",
       "0         India            980    1.371300e+09   0.000071\n",
       "1     Indonesia            210    2.652000e+08   0.000079\n",
       "2         China           1130    1.393800e+09   0.000081\n",
       "3    Uzbekistan             28    3.290000e+07   0.000085\n",
       "4      Ethiopia            101    1.075000e+08   0.000094\n",
       "5  Korea, North             36    2.560000e+07   0.000141\n",
       "6        Zambia             25    1.770000e+07   0.000141\n",
       "7      Thailand            112    6.620000e+07   0.000169\n",
       "8    Mozambique             58    3.050000e+07   0.000190\n",
       "9    Bangladesh            319    1.664000e+08   0.000192"
      ]
     },
     "execution_count": 204,
     "metadata": {},
     "output_type": "execute_result"
    }
   ],
   "source": [
    "# Bottom 10 Countries by Coverage\n",
    "country_cov.sort_values('coverage%',ascending=True)[0:10].reset_index(drop=True)"
   ]
  },
  {
   "cell_type": "code",
   "execution_count": 205,
   "metadata": {},
   "outputs": [
    {
     "data": {
      "text/html": [
       "<div>\n",
       "<style scoped>\n",
       "    .dataframe tbody tr th:only-of-type {\n",
       "        vertical-align: middle;\n",
       "    }\n",
       "\n",
       "    .dataframe tbody tr th {\n",
       "        vertical-align: top;\n",
       "    }\n",
       "\n",
       "    .dataframe thead th {\n",
       "        text-align: right;\n",
       "    }\n",
       "</style>\n",
       "<table border=\"1\" class=\"dataframe\">\n",
       "  <thead>\n",
       "    <tr style=\"text-align: right;\">\n",
       "      <th></th>\n",
       "      <th>country</th>\n",
       "      <th>article_count_good</th>\n",
       "      <th>article_count</th>\n",
       "      <th>quality%</th>\n",
       "    </tr>\n",
       "  </thead>\n",
       "  <tbody>\n",
       "    <tr>\n",
       "      <td>0</td>\n",
       "      <td>Korea, North</td>\n",
       "      <td>7</td>\n",
       "      <td>36</td>\n",
       "      <td>19.444444</td>\n",
       "    </tr>\n",
       "    <tr>\n",
       "      <td>1</td>\n",
       "      <td>Saudi Arabia</td>\n",
       "      <td>15</td>\n",
       "      <td>118</td>\n",
       "      <td>12.711864</td>\n",
       "    </tr>\n",
       "    <tr>\n",
       "      <td>2</td>\n",
       "      <td>Mauritania</td>\n",
       "      <td>6</td>\n",
       "      <td>48</td>\n",
       "      <td>12.500000</td>\n",
       "    </tr>\n",
       "    <tr>\n",
       "      <td>3</td>\n",
       "      <td>Central African Republic</td>\n",
       "      <td>8</td>\n",
       "      <td>66</td>\n",
       "      <td>12.121212</td>\n",
       "    </tr>\n",
       "    <tr>\n",
       "      <td>4</td>\n",
       "      <td>Romania</td>\n",
       "      <td>39</td>\n",
       "      <td>343</td>\n",
       "      <td>11.370262</td>\n",
       "    </tr>\n",
       "    <tr>\n",
       "      <td>5</td>\n",
       "      <td>Tuvalu</td>\n",
       "      <td>5</td>\n",
       "      <td>54</td>\n",
       "      <td>9.259259</td>\n",
       "    </tr>\n",
       "    <tr>\n",
       "      <td>6</td>\n",
       "      <td>Bhutan</td>\n",
       "      <td>3</td>\n",
       "      <td>33</td>\n",
       "      <td>9.090909</td>\n",
       "    </tr>\n",
       "    <tr>\n",
       "      <td>7</td>\n",
       "      <td>Dominica</td>\n",
       "      <td>1</td>\n",
       "      <td>12</td>\n",
       "      <td>8.333333</td>\n",
       "    </tr>\n",
       "    <tr>\n",
       "      <td>8</td>\n",
       "      <td>Syria</td>\n",
       "      <td>10</td>\n",
       "      <td>128</td>\n",
       "      <td>7.812500</td>\n",
       "    </tr>\n",
       "    <tr>\n",
       "      <td>9</td>\n",
       "      <td>Benin</td>\n",
       "      <td>7</td>\n",
       "      <td>91</td>\n",
       "      <td>7.692308</td>\n",
       "    </tr>\n",
       "  </tbody>\n",
       "</table>\n",
       "</div>"
      ],
      "text/plain": [
       "                    country  article_count_good  article_count   quality%\n",
       "0              Korea, North                   7             36  19.444444\n",
       "1              Saudi Arabia                  15            118  12.711864\n",
       "2                Mauritania                   6             48  12.500000\n",
       "3  Central African Republic                   8             66  12.121212\n",
       "4                   Romania                  39            343  11.370262\n",
       "5                    Tuvalu                   5             54   9.259259\n",
       "6                    Bhutan                   3             33   9.090909\n",
       "7                  Dominica                   1             12   8.333333\n",
       "8                     Syria                  10            128   7.812500\n",
       "9                     Benin                   7             91   7.692308"
      ]
     },
     "execution_count": 205,
     "metadata": {},
     "output_type": "execute_result"
    }
   ],
   "source": [
    "# Top 10 Countries by Relative Quality\n",
    "country_qual.sort_values('quality%',ascending=False)[0:10].reset_index(drop=True)"
   ]
  },
  {
   "cell_type": "code",
   "execution_count": 206,
   "metadata": {},
   "outputs": [
    {
     "data": {
      "text/html": [
       "<div>\n",
       "<style scoped>\n",
       "    .dataframe tbody tr th:only-of-type {\n",
       "        vertical-align: middle;\n",
       "    }\n",
       "\n",
       "    .dataframe tbody tr th {\n",
       "        vertical-align: top;\n",
       "    }\n",
       "\n",
       "    .dataframe thead th {\n",
       "        text-align: right;\n",
       "    }\n",
       "</style>\n",
       "<table border=\"1\" class=\"dataframe\">\n",
       "  <thead>\n",
       "    <tr style=\"text-align: right;\">\n",
       "      <th></th>\n",
       "      <th>country</th>\n",
       "      <th>article_count_good</th>\n",
       "      <th>article_count</th>\n",
       "      <th>quality%</th>\n",
       "    </tr>\n",
       "  </thead>\n",
       "  <tbody>\n",
       "    <tr>\n",
       "      <td>0</td>\n",
       "      <td>Belgium</td>\n",
       "      <td>1</td>\n",
       "      <td>520</td>\n",
       "      <td>0.192308</td>\n",
       "    </tr>\n",
       "    <tr>\n",
       "      <td>1</td>\n",
       "      <td>Tanzania</td>\n",
       "      <td>1</td>\n",
       "      <td>405</td>\n",
       "      <td>0.246914</td>\n",
       "    </tr>\n",
       "    <tr>\n",
       "      <td>2</td>\n",
       "      <td>Switzerland</td>\n",
       "      <td>1</td>\n",
       "      <td>402</td>\n",
       "      <td>0.248756</td>\n",
       "    </tr>\n",
       "    <tr>\n",
       "      <td>3</td>\n",
       "      <td>Nepal</td>\n",
       "      <td>1</td>\n",
       "      <td>357</td>\n",
       "      <td>0.280112</td>\n",
       "    </tr>\n",
       "    <tr>\n",
       "      <td>4</td>\n",
       "      <td>Peru</td>\n",
       "      <td>1</td>\n",
       "      <td>350</td>\n",
       "      <td>0.285714</td>\n",
       "    </tr>\n",
       "    <tr>\n",
       "      <td>5</td>\n",
       "      <td>Nigeria</td>\n",
       "      <td>2</td>\n",
       "      <td>677</td>\n",
       "      <td>0.295421</td>\n",
       "    </tr>\n",
       "    <tr>\n",
       "      <td>6</td>\n",
       "      <td>Colombia</td>\n",
       "      <td>1</td>\n",
       "      <td>285</td>\n",
       "      <td>0.350877</td>\n",
       "    </tr>\n",
       "    <tr>\n",
       "      <td>7</td>\n",
       "      <td>Lithuania</td>\n",
       "      <td>1</td>\n",
       "      <td>244</td>\n",
       "      <td>0.409836</td>\n",
       "    </tr>\n",
       "    <tr>\n",
       "      <td>8</td>\n",
       "      <td>Fiji</td>\n",
       "      <td>1</td>\n",
       "      <td>197</td>\n",
       "      <td>0.507614</td>\n",
       "    </tr>\n",
       "    <tr>\n",
       "      <td>9</td>\n",
       "      <td>Azerbaijan</td>\n",
       "      <td>1</td>\n",
       "      <td>179</td>\n",
       "      <td>0.558659</td>\n",
       "    </tr>\n",
       "  </tbody>\n",
       "</table>\n",
       "</div>"
      ],
      "text/plain": [
       "       country  article_count_good  article_count  quality%\n",
       "0      Belgium                   1            520  0.192308\n",
       "1     Tanzania                   1            405  0.246914\n",
       "2  Switzerland                   1            402  0.248756\n",
       "3        Nepal                   1            357  0.280112\n",
       "4         Peru                   1            350  0.285714\n",
       "5      Nigeria                   2            677  0.295421\n",
       "6     Colombia                   1            285  0.350877\n",
       "7    Lithuania                   1            244  0.409836\n",
       "8         Fiji                   1            197  0.507614\n",
       "9   Azerbaijan                   1            179  0.558659"
      ]
     },
     "execution_count": 206,
     "metadata": {},
     "output_type": "execute_result"
    }
   ],
   "source": [
    "# Bottom 10 Countries by Relative Quality\n",
    "country_qual.sort_values('quality%',ascending=True)[0:10].reset_index(drop=True)"
   ]
  },
  {
   "cell_type": "code",
   "execution_count": 207,
   "metadata": {},
   "outputs": [
    {
     "data": {
      "text/html": [
       "<div>\n",
       "<style scoped>\n",
       "    .dataframe tbody tr th:only-of-type {\n",
       "        vertical-align: middle;\n",
       "    }\n",
       "\n",
       "    .dataframe tbody tr th {\n",
       "        vertical-align: top;\n",
       "    }\n",
       "\n",
       "    .dataframe thead th {\n",
       "        text-align: right;\n",
       "    }\n",
       "</style>\n",
       "<table border=\"1\" class=\"dataframe\">\n",
       "  <thead>\n",
       "    <tr style=\"text-align: right;\">\n",
       "      <th></th>\n",
       "      <th>Region</th>\n",
       "      <th>article_count</th>\n",
       "      <th>population_sum</th>\n",
       "      <th>coverage%</th>\n",
       "    </tr>\n",
       "  </thead>\n",
       "  <tbody>\n",
       "    <tr>\n",
       "      <td>0</td>\n",
       "      <td>EUROPE</td>\n",
       "      <td>15864</td>\n",
       "      <td>3.486289e+07</td>\n",
       "      <td>0.045504</td>\n",
       "    </tr>\n",
       "    <tr>\n",
       "      <td>1</td>\n",
       "      <td>AFRICA</td>\n",
       "      <td>6851</td>\n",
       "      <td>4.562152e+07</td>\n",
       "      <td>0.015017</td>\n",
       "    </tr>\n",
       "    <tr>\n",
       "      <td>2</td>\n",
       "      <td>LATIN AMERICA AND THE CARIBBEAN</td>\n",
       "      <td>5169</td>\n",
       "      <td>6.356716e+07</td>\n",
       "      <td>0.008132</td>\n",
       "    </tr>\n",
       "    <tr>\n",
       "      <td>3</td>\n",
       "      <td>ASIA</td>\n",
       "      <td>11531</td>\n",
       "      <td>3.109822e+08</td>\n",
       "      <td>0.003708</td>\n",
       "    </tr>\n",
       "    <tr>\n",
       "      <td>4</td>\n",
       "      <td>NORTHERN AMERICA</td>\n",
       "      <td>1921</td>\n",
       "      <td>2.003871e+08</td>\n",
       "      <td>0.000959</td>\n",
       "    </tr>\n",
       "  </tbody>\n",
       "</table>\n",
       "</div>"
      ],
      "text/plain": [
       "                            Region  article_count  population_sum  coverage%\n",
       "0                           EUROPE          15864    3.486289e+07   0.045504\n",
       "1                           AFRICA           6851    4.562152e+07   0.015017\n",
       "2  LATIN AMERICA AND THE CARIBBEAN           5169    6.356716e+07   0.008132\n",
       "3                             ASIA          11531    3.109822e+08   0.003708\n",
       "4                 NORTHERN AMERICA           1921    2.003871e+08   0.000959"
      ]
     },
     "execution_count": 207,
     "metadata": {},
     "output_type": "execute_result"
    }
   ],
   "source": [
    "# Geographic Regions by Coverage\n",
    "region_cov.sort_values('coverage%',ascending=False).reset_index(drop=True)"
   ]
  },
  {
   "cell_type": "code",
   "execution_count": 208,
   "metadata": {},
   "outputs": [
    {
     "data": {
      "text/html": [
       "<div>\n",
       "<style scoped>\n",
       "    .dataframe tbody tr th:only-of-type {\n",
       "        vertical-align: middle;\n",
       "    }\n",
       "\n",
       "    .dataframe tbody tr th {\n",
       "        vertical-align: top;\n",
       "    }\n",
       "\n",
       "    .dataframe thead th {\n",
       "        text-align: right;\n",
       "    }\n",
       "</style>\n",
       "<table border=\"1\" class=\"dataframe\">\n",
       "  <thead>\n",
       "    <tr style=\"text-align: right;\">\n",
       "      <th></th>\n",
       "      <th>Region</th>\n",
       "      <th>article_count_good</th>\n",
       "      <th>article_count</th>\n",
       "      <th>quality%</th>\n",
       "    </tr>\n",
       "  </thead>\n",
       "  <tbody>\n",
       "    <tr>\n",
       "      <td>0</td>\n",
       "      <td>NORTHERN AMERICA</td>\n",
       "      <td>99</td>\n",
       "      <td>1921</td>\n",
       "      <td>5.153566</td>\n",
       "    </tr>\n",
       "    <tr>\n",
       "      <td>1</td>\n",
       "      <td>ASIA</td>\n",
       "      <td>310</td>\n",
       "      <td>11531</td>\n",
       "      <td>2.688405</td>\n",
       "    </tr>\n",
       "    <tr>\n",
       "      <td>2</td>\n",
       "      <td>EUROPE</td>\n",
       "      <td>322</td>\n",
       "      <td>15864</td>\n",
       "      <td>2.029753</td>\n",
       "    </tr>\n",
       "    <tr>\n",
       "      <td>3</td>\n",
       "      <td>AFRICA</td>\n",
       "      <td>125</td>\n",
       "      <td>6851</td>\n",
       "      <td>1.824551</td>\n",
       "    </tr>\n",
       "    <tr>\n",
       "      <td>4</td>\n",
       "      <td>LATIN AMERICA AND THE CARIBBEAN</td>\n",
       "      <td>69</td>\n",
       "      <td>5169</td>\n",
       "      <td>1.334881</td>\n",
       "    </tr>\n",
       "  </tbody>\n",
       "</table>\n",
       "</div>"
      ],
      "text/plain": [
       "                            Region  article_count_good  article_count  \\\n",
       "0                 NORTHERN AMERICA                  99           1921   \n",
       "1                             ASIA                 310          11531   \n",
       "2                           EUROPE                 322          15864   \n",
       "3                           AFRICA                 125           6851   \n",
       "4  LATIN AMERICA AND THE CARIBBEAN                  69           5169   \n",
       "\n",
       "   quality%  \n",
       "0  5.153566  \n",
       "1  2.688405  \n",
       "2  2.029753  \n",
       "3  1.824551  \n",
       "4  1.334881  "
      ]
     },
     "execution_count": 208,
     "metadata": {},
     "output_type": "execute_result"
    }
   ],
   "source": [
    "# Geographic Regions by Relative Quality\n",
    "region_qual.sort_values('quality%',ascending=False).reset_index(drop=True)"
   ]
  },
  {
   "cell_type": "markdown",
   "metadata": {},
   "source": [
    "## Reflections and Implications\n",
    "\n",
    "The results of this study were surprising because almost none of my expectations were met. Specifically, I expected to see areas with strong institutional freedoms score highly in both the coverage and quality tables. However, there didn't seem to be much rhyme or reason to any of the table. I believe that this is because of two factors: the coverage and quality percentage calculations were biased by extremes in the numerator or denominators; and the lack of quality of the 'quality' indicator.\n",
    "\n",
    "Ratios are always suspect because they are vulnurable to extremes in either the numerator or the denominator. For examples, India scores very low in the coverage category because of their vast population. I don't think that there are even enough unique articles to be written that could overcome such an imbalance.\n",
    "\n",
    "Also, measures of quality are always suspect. This is most clearly shown in this exercise by the very high ranking of North Korea in the quality score. This is likely due to the oppressive nature of the country that limits the types of articles coming out of the country which has clearly biased the results.\n",
    "\n",
    "As with anything in data science, it is critical to be aware of the biases that can crop up in data as well as the underlying logic used to derive any specific metric."
   ]
  },
  {
   "cell_type": "code",
   "execution_count": null,
   "metadata": {},
   "outputs": [],
   "source": []
  }
 ],
 "metadata": {
  "kernelspec": {
   "display_name": "Python 3",
   "language": "python",
   "name": "python3"
  },
  "language_info": {
   "codemirror_mode": {
    "name": "ipython",
    "version": 3
   },
   "file_extension": ".py",
   "mimetype": "text/x-python",
   "name": "python",
   "nbconvert_exporter": "python",
   "pygments_lexer": "ipython3",
   "version": "3.7.3"
  }
 },
 "nbformat": 4,
 "nbformat_minor": 2
}
